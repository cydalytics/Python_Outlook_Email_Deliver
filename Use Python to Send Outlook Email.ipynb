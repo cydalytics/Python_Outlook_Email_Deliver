{
 "cells": [
  {
   "cell_type": "markdown",
   "id": "b6be2295-2239-4018-b80e-27a45a25d5dd",
   "metadata": {},
   "source": [
    "# <center><font color='#333333'>Use Python to Send Outlook Email</font></center>\n",
    "### <center><font color='#3b5998'>Created by cyda - Yeung Wong & Carrie Lo</font></center>"
   ]
  },
  {
   "cell_type": "markdown",
   "id": "5bbb3acc-bf2b-488c-873b-a415fd4c9b40",
   "metadata": {},
   "source": [
    "--------------------------------------------------------------------------------------\n",
    "![logo](https://4.bp.blogspot.com/-LAXjdvVCYCU/WxeQFKQ-1wI/AAAAAAAAACs/o8IJ1eLLAEwQYv2Az7EqQi9jODTqRx7wACK4BGAYYCw/s1000/tight%2Bbanner_with_description.png)"
   ]
  },
  {
   "cell_type": "markdown",
   "id": "fb669743-1f3b-46ad-9bb2-64362104bc3d",
   "metadata": {},
   "source": [
    "--------------------------------------------------------------------------------------\n",
    "Please acknowledge <b>team cyda - Yeung Wong & Carrie Lo</b> when using the code\n",
    "\n",
    "<b><font color='#3b5998'>If you find this script is helpful, please feel free to endorse us through Linkedin!</font></b>\n",
    "\n",
    "<b>Linkedin:</b>\n",
    "\n",
    "Yeung Wong - https://www.linkedin.com/in/yeungwong/\n",
    "\n",
    "Carrie Lo - https://www.linkedin.com/in/carrielsc/\n",
    "\n",
    "--------------------------------------------------------------------------------------"
   ]
  },
  {
   "cell_type": "markdown",
   "id": "c169e521-f4d8-4792-9714-7e5d0870266f",
   "metadata": {},
   "source": [
    "# Step 1 - Import Packages"
   ]
  },
  {
   "cell_type": "code",
   "execution_count": 1,
   "id": "375865ba-a0b3-42fd-844a-659d0c35ffb1",
   "metadata": {},
   "outputs": [],
   "source": [
    "import win32com.client as win32\n",
    "from datetime import datetime\n",
    "import os"
   ]
  },
  {
   "cell_type": "markdown",
   "id": "ef3b4337-9a0c-4da7-abae-c7a865300deb",
   "metadata": {},
   "source": [
    "# Step 2 - Send the Email"
   ]
  },
  {
   "cell_type": "code",
   "execution_count": 2,
   "id": "29a51b04-af2a-42ae-9bd4-66fd18184a3f",
   "metadata": {},
   "outputs": [
    {
     "name": "stdout",
     "output_type": "stream",
     "text": [
      "The Email is sent.\n"
     ]
    }
   ],
   "source": [
    "# Open the Outlook\n",
    "outlook = win32.Dispatch('outlook.application')\n",
    "\n",
    "# Create the email\n",
    "mail = outlook.CreateItem(0)\n",
    "\n",
    "# Set the email subject\n",
    "mail.Subject = 'Currencies Exchange Prices as of ' + datetime.now().strftime('%#d %b %Y %H:%M')\n",
    "\n",
    "# Set the receiver email\n",
    "mail.To = \"carrie.cyda@gmail.com\"\n",
    "\n",
    "# Add the image\n",
    "attachment = mail.Attachments.Add(os.getcwd() + \"\\\\Currencies.png\")\n",
    "attachment.PropertyAccessor.SetProperty(\"http://schemas.microsoft.com/mapi/proptag/0x3712001F\", \"currency_img\")\n",
    "\n",
    "# Write the email content\n",
    "mail.HTMLBody = r\"\"\"\n",
    "Dear Carrie,<br><br>\n",
    "The highlighted of currencies exchange prices is as follow:<br><br>\n",
    "<img src=\"cid:currency_img\"><br><br>\n",
    "For more details, you can check the table in the Excel file attached.<br><br>\n",
    "Best regards,<br>\n",
    "Yeung\n",
    "\"\"\"\n",
    "\n",
    "# Add the Excel attachement\n",
    "mail.Attachments.Add(os.getcwd() + \"\\\\Currencies.xlsx\")\n",
    "\n",
    "# Send the email\n",
    "mail.Send()\n",
    "print('The Email is sent.')"
   ]
  }
 ],
 "metadata": {
  "kernelspec": {
   "display_name": "Python 3",
   "language": "python",
   "name": "python3"
  },
  "language_info": {
   "codemirror_mode": {
    "name": "ipython",
    "version": 3
   },
   "file_extension": ".py",
   "mimetype": "text/x-python",
   "name": "python",
   "nbconvert_exporter": "python",
   "pygments_lexer": "ipython3",
   "version": "3.9.4"
  }
 },
 "nbformat": 4,
 "nbformat_minor": 5
}
